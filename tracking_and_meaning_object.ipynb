{
 "cells": [
  {
   "cell_type": "markdown",
   "metadata": {},
   "source": [
    "# Bám theo vật"
   ]
  },
  {
   "cell_type": "markdown",
   "metadata": {},
   "source": [
    "Ứng dụng Correlation Coefficient\n"
   ]
  },
  {
   "cell_type": "code",
   "execution_count": 32,
   "metadata": {},
   "outputs": [],
   "source": [
    "import cv2\n",
    "import numpy as np\n",
    "cap = cv2.VideoCapture(1)\n",
    "k =0\n",
    "n =40\n",
    "kernel = np.ones((n,n), np.float32)/ n**2\n",
    "while(True):\n",
    "    _, image = cap.read()\n",
    "    img_gray = cv2.cvtColor(image, cv2.COLOR_BGR2GRAY)\n",
    "    if cv2.waitKey(1) & 0xFF == ord('c'):\n",
    "        k = 1\n",
    "        tem = img_gray[200:350,200:400]\n",
    "        w, h = tem.shape[::-1]\n",
    "        cv2.imshow('tem', tem)\n",
    "    if k == 1:\n",
    "        output = cv2.matchTemplate(img_gray,tem, cv2.TM_CCOEFF_NORMED)\n",
    "        min_val,max_val,min_loc,max_loc = cv2.minMaxLoc(output)\n",
    "        if max_val > 0.5:\n",
    "            bottom_right = (max_loc[0] + w, max_loc[1] + h)\n",
    "            mean = cv2.filter2D(image[max_loc[1]:bottom_right[1],max_loc[0]:bottom_right[0]], cv2.CV_8U, kernel)\n",
    "            image[max_loc[1]:bottom_right[1],max_loc[0]:bottom_right[0]] = mean\n",
    "            image = cv2.rectangle(image, max_loc, bottom_right , (255, 255, 0), 6)\n",
    "    else:\n",
    "        image = cv2.rectangle(image, (200,200), (400,350), (255, 0, 0), 2)\n",
    "    if cv2.waitKey(1)& 0xFF == ord('q'):\n",
    "        break\n",
    "    cv2.imshow('Live Video', image)\n",
    "cap.release()\n",
    "cv2.destroyAllWindows()"
   ]
  },
  {
   "cell_type": "code",
   "execution_count": null,
   "metadata": {},
   "outputs": [],
   "source": []
  },
  {
   "cell_type": "code",
   "execution_count": null,
   "metadata": {},
   "outputs": [],
   "source": []
  }
 ],
 "metadata": {
  "kernelspec": {
   "display_name": "Python 3",
   "language": "python",
   "name": "python3"
  },
  "language_info": {
   "codemirror_mode": {
    "name": "ipython",
    "version": 3
   },
   "file_extension": ".py",
   "mimetype": "text/x-python",
   "name": "python",
   "nbconvert_exporter": "python",
   "pygments_lexer": "ipython3",
   "version": "3.7.0"
  }
 },
 "nbformat": 4,
 "nbformat_minor": 4
}
